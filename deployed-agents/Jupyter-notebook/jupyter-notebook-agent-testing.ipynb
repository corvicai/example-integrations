{
 "cells": [
  {
   "cell_type": "markdown",
   "id": "96c2383b",
   "metadata": {},
   "source": [
    "<div style=\"display: flex; justify-content: flex-end;\">\n",
    "  <img src=\"../../assets/images/corvicai_logo.png\" alt=\"Corvic AI Logo\" width=\"120\"/>\n",
    "</div>\n",
    "\n",
    "<h3>Corvic AI Agent Testing via API</h3>\n",
    "\n",
    "Corvic AI agents deployed in production can be tested using APIs. This notebook demonstrates how to interact with deployed agents programmatically, enabling automated testing and integration into various workflows.\n"
   ]
  },
  {
   "cell_type": "code",
   "execution_count": null,
   "id": "9f0b88c1",
   "metadata": {},
   "outputs": [],
   "source": [
    "import asyncio\n",
    "import pandas as pd\n",
    "from mcp import ClientSession\n",
    "from mcp.client.sse import sse_client\n",
    "\n",
    "# Paths\n",
    "# Input schema: id, question, expected_answer, ...\n",
    "INPUT_CSV_PATH = \"<PATH/TO/Question_CSV_file.csv>\"\n",
    "\n",
    "# Output schema: id, question, expected_answer, response, \n",
    "OUTPUT_PATH = \"/PATH_TO_STORE_RESPONSES/output.xlsx\"\n",
    "\n",
    "# Corvic MCP setup\n",
    "MCP_URL = \"<YOUR_CORVIC_AI_MCP_ENDPOINT>\"\n",
    "HEADERS = {\n",
    "    \"Authorization\": \"YOUR-CORVIC-API-TOKEN\"\n",
    "}\n",
    "\n",
    "async def query_agent(session, question):\n",
    "    try:\n",
    "        result = await session.call_tool(\n",
    "            \"query\", arguments={\"query_content\": question}\n",
    "        )\n",
    "\n",
    "        if result.content and len(result.content) > 0:\n",
    "            return result.content[0].text\n",
    "        return \"No content returned\"\n",
    "    except Exception as e:\n",
    "        return f\"Error: {e}\"\n",
    "\n",
    "async def run():\n",
    "    df = pd.read_csv(INPUT_CSV_PATH)\n",
    "    results = []\n",
    "\n",
    "    async with sse_client(MCP_URL, headers=HEADERS) as (read, write):\n",
    "        async with ClientSession(read, write) as session:\n",
    "            await session.initialize()\n",
    "\n",
    "            for _, row in df.iterrows():\n",
    "                query = row['question']\n",
    "                id_ = row['id']\n",
    "                expected = row['expected_answer']\n",
    "\n",
    "                print(f\"Querying ID {id_}: {query}\")\n",
    "                response = await query_agent(session, query)\n",
    "                print(f\"Response: {response}\")\n",
    "\n",
    "                results.append({\n",
    "                    \"id\": id_,\n",
    "                    \"question\": query,\n",
    "                    \"expected_answer\": expected,\n",
    "                    \"response\": response\n",
    "                })\n",
    "\n",
    "    pd.DataFrame(results).to_excel(OUTPUT_PATH, index=False)\n",
    "    print(f\"✅ Done. Results saved to {OUTPUT_PATH}\")\n"
   ]
  },
  {
   "cell_type": "code",
   "execution_count": null,
   "id": "df7f433b",
   "metadata": {},
   "outputs": [],
   "source": [
    "\n",
    "# To run inside notebook\n",
    "await run()"
   ]
  }
 ],
 "metadata": {
  "kernelspec": {
   "display_name": "Python 3",
   "language": "python",
   "name": "python3"
  },
  "language_info": {
   "name": "python",
   "version": "3.10.11"
  }
 },
 "nbformat": 4,
 "nbformat_minor": 5
}
